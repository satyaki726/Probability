{
 "cells": [
  {
   "cell_type": "code",
   "execution_count": 1,
   "metadata": {},
   "outputs": [],
   "source": [
    "import numpy as np\n",
    "import pandas as pd"
   ]
  },
  {
   "cell_type": "code",
   "execution_count": 2,
   "metadata": {},
   "outputs": [
    {
     "data": {
      "text/html": [
       "<div>\n",
       "<style scoped>\n",
       "    .dataframe tbody tr th:only-of-type {\n",
       "        vertical-align: middle;\n",
       "    }\n",
       "\n",
       "    .dataframe tbody tr th {\n",
       "        vertical-align: top;\n",
       "    }\n",
       "\n",
       "    .dataframe thead th {\n",
       "        text-align: right;\n",
       "    }\n",
       "</style>\n",
       "<table border=\"1\" class=\"dataframe\">\n",
       "  <thead>\n",
       "    <tr style=\"text-align: right;\">\n",
       "      <th></th>\n",
       "      <th>Id</th>\n",
       "      <th>SepalLengthCm</th>\n",
       "      <th>SepalWidthCm</th>\n",
       "      <th>PetalLengthCm</th>\n",
       "      <th>PetalWidthCm</th>\n",
       "      <th>Species</th>\n",
       "    </tr>\n",
       "  </thead>\n",
       "  <tbody>\n",
       "    <tr>\n",
       "      <th>0</th>\n",
       "      <td>1</td>\n",
       "      <td>5.1</td>\n",
       "      <td>3.5</td>\n",
       "      <td>1.4</td>\n",
       "      <td>0.2</td>\n",
       "      <td>Iris-setosa</td>\n",
       "    </tr>\n",
       "    <tr>\n",
       "      <th>1</th>\n",
       "      <td>2</td>\n",
       "      <td>4.9</td>\n",
       "      <td>3.0</td>\n",
       "      <td>1.4</td>\n",
       "      <td>0.2</td>\n",
       "      <td>Iris-setosa</td>\n",
       "    </tr>\n",
       "    <tr>\n",
       "      <th>2</th>\n",
       "      <td>3</td>\n",
       "      <td>4.7</td>\n",
       "      <td>3.2</td>\n",
       "      <td>1.3</td>\n",
       "      <td>0.2</td>\n",
       "      <td>Iris-setosa</td>\n",
       "    </tr>\n",
       "    <tr>\n",
       "      <th>3</th>\n",
       "      <td>4</td>\n",
       "      <td>4.6</td>\n",
       "      <td>3.1</td>\n",
       "      <td>1.5</td>\n",
       "      <td>0.2</td>\n",
       "      <td>Iris-setosa</td>\n",
       "    </tr>\n",
       "    <tr>\n",
       "      <th>4</th>\n",
       "      <td>5</td>\n",
       "      <td>5.0</td>\n",
       "      <td>3.6</td>\n",
       "      <td>1.4</td>\n",
       "      <td>0.2</td>\n",
       "      <td>Iris-setosa</td>\n",
       "    </tr>\n",
       "  </tbody>\n",
       "</table>\n",
       "</div>"
      ],
      "text/plain": [
       "   Id  SepalLengthCm  SepalWidthCm  PetalLengthCm  PetalWidthCm      Species\n",
       "0   1            5.1           3.5            1.4           0.2  Iris-setosa\n",
       "1   2            4.9           3.0            1.4           0.2  Iris-setosa\n",
       "2   3            4.7           3.2            1.3           0.2  Iris-setosa\n",
       "3   4            4.6           3.1            1.5           0.2  Iris-setosa\n",
       "4   5            5.0           3.6            1.4           0.2  Iris-setosa"
      ]
     },
     "execution_count": 2,
     "metadata": {},
     "output_type": "execute_result"
    }
   ],
   "source": [
    "df = pd.read_csv('Iris.csv')\n",
    "df.head(5)"
   ]
  },
  {
   "cell_type": "code",
   "execution_count": 3,
   "metadata": {},
   "outputs": [
    {
     "data": {
      "text/plain": [
       "150"
      ]
     },
     "execution_count": 3,
     "metadata": {},
     "output_type": "execute_result"
    }
   ],
   "source": [
    "df.shape[0]"
   ]
  },
  {
   "cell_type": "code",
   "execution_count": 4,
   "metadata": {},
   "outputs": [
    {
     "data": {
      "text/plain": [
       "Iris-setosa        50\n",
       "Iris-versicolor    50\n",
       "Iris-virginica     50\n",
       "Name: Species, dtype: int64"
      ]
     },
     "execution_count": 4,
     "metadata": {},
     "output_type": "execute_result"
    }
   ],
   "source": [
    "df['Species'].value_counts()"
   ]
  },
  {
   "cell_type": "code",
   "execution_count": 5,
   "metadata": {},
   "outputs": [],
   "source": [
    "p_setosa=50/150\n",
    "p_virginica=50/150\n",
    "p_versicolor=50/150"
   ]
  },
  {
   "cell_type": "code",
   "execution_count": 10,
   "metadata": {},
   "outputs": [
    {
     "name": "stdout",
     "output_type": "stream",
     "text": [
      "0.013026689015295948\n",
      "3.246610075772928\n"
     ]
    }
   ],
   "source": [
    "setosa=df[df['Species']=='Iris-setosa']\n",
    "mean_SL_setosa=setosa['SepalLengthCm'].mean()\n",
    "std_SL_setosa=setosa['SepalLengthCm'].std()\n",
    "p_SL_setosa=np.exp((-((((4.7-mean_SL_setosa)/std_SL_setosa)**2)/2)))/(std_SL_setosa*(np.sqrt(2*np.pi)))\n",
    "\n",
    "mean_SW_setosa=setosa['SepalWidthCm'].mean()\n",
    "std_SW_setosa=setosa['SepalWidthCm'].std()\n",
    "p_SW_setosa=np.exp((-((((3.7-mean_SW_setosa)/std_SW_setosa)**2)/2)))/(std_SW_setosa*(np.sqrt(2*np.pi)))\n",
    "\n",
    "mean_PL_setosa=setosa['PetalLengthCm'].mean()\n",
    "std_PL_setosa=setosa['PetalLengthCm'].std()\n",
    "p_PL_setosa=np.exp((-((((2-mean_PL_setosa)/std_PL_setosa)**2)/2)))/(std_PL_setosa*(np.sqrt(2*np.pi)))\n",
    "\n",
    "mean_PW_setosa=setosa['PetalWidthCm'].mean()\n",
    "std_PW_setosa=setosa['PetalWidthCm'].std()\n",
    "p_PW_setosa=np.exp((-((((0.3-mean_PW_setosa)/std_PW_setosa)**2)/2)))/(std_PW_setosa*(np.sqrt(2*np.pi)))\n",
    "\n",
    "prob_setosa=p_SL_setosa*p_SW_setosa*p_PL_setosa*p_PW_setosa*p_setosa\n",
    "\n",
    "print(prob_setosa)\n",
    "print(p_PW_setosa)"
   ]
  },
  {
   "cell_type": "code",
   "execution_count": 7,
   "metadata": {},
   "outputs": [
    {
     "name": "stdout",
     "output_type": "stream",
     "text": [
      "7.057685074001408e-22\n"
     ]
    }
   ],
   "source": [
    "verg=df[df['Species']=='Iris-virginica']\n",
    "mean_SL_verg=verg['SepalLengthCm'].mean()\n",
    "std_SL_verg=verg['SepalLengthCm'].std()\n",
    "p_SL_verg=np.exp((-((((4.7-mean_SL_verg)/std_SL_verg)**2)/2)))/(std_SL_verg*(np.sqrt(2*np.pi)))\n",
    "\n",
    "mean_SW_verg=verg['SepalWidthCm'].mean()\n",
    "std_SW_verg=verg['SepalWidthCm'].std()\n",
    "p_SW_verg=np.exp((-((((3.7-mean_SW_verg)/std_SW_verg)**2)/2)))/(std_SW_verg*(np.sqrt(2*np.pi)))\n",
    "\n",
    "mean_PL_verg=verg['PetalLengthCm'].mean()\n",
    "std_PL_verg=verg['PetalLengthCm'].std()\n",
    "p_PL_verg=np.exp((-((((2-mean_PL_verg)/std_PL_verg)**2)/2)))/(std_PL_verg*(np.sqrt(2*np.pi)))\n",
    "\n",
    "mean_PW_verg=verg['PetalWidthCm'].mean()\n",
    "std_PW_verg=verg['PetalWidthCm'].std()\n",
    "p_PW_verg=np.exp((-((((0.3-mean_PW_verg)/std_PW_verg)**2)/2)))/(std_PW_verg*(np.sqrt(2*np.pi)))\n",
    "\n",
    "prob_verg=p_SL_verg*p_SW_verg*p_PL_verg*p_PW_verg*p_virginica\n",
    "\n",
    "print(prob_verg)"
   ]
  },
  {
   "cell_type": "code",
   "execution_count": 8,
   "metadata": {},
   "outputs": [
    {
     "name": "stdout",
     "output_type": "stream",
     "text": [
      "5.352293900202344e-15\n"
     ]
    }
   ],
   "source": [
    "versi=df[df['Species']=='Iris-versicolor']\n",
    "mean_SL_versi=versi['SepalLengthCm'].mean()\n",
    "std_SL_versi=versi['SepalLengthCm'].std()\n",
    "p_SL_versi=np.exp((-((((4.7-mean_SL_versi)/std_SL_versi)**2)/2)))/(std_SL_versi*(np.sqrt(2*np.pi)))\n",
    "\n",
    "mean_SW_versi=versi['SepalWidthCm'].mean()\n",
    "std_SW_versi=versi['SepalWidthCm'].std()\n",
    "p_SW_versi=np.exp((-((((3.7-mean_SW_versi)/std_SW_versi)**2)/2)))/(std_SW_versi*(np.sqrt(2*np.pi)))\n",
    "\n",
    "mean_PL_versi=versi['PetalLengthCm'].mean()\n",
    "std_PL_versi=versi['PetalLengthCm'].std()\n",
    "p_PL_versi=np.exp((-((((2-mean_PL_versi)/std_PL_versi)**2)/2)))/(std_PL_versi*(np.sqrt(2*np.pi)))\n",
    "\n",
    "mean_PW_versi=versi['PetalWidthCm'].mean()\n",
    "std_PW_versi=versi['PetalWidthCm'].std()\n",
    "p_PW_versi=np.exp((-((((0.3-mean_PW_versi)/std_PW_versi)**2)/2)))/(std_PW_versi*(np.sqrt(2*np.pi)))\n",
    "\n",
    "prob_versi=p_SL_versi*p_SW_versi*p_PL_versi*p_PW_versi*p_versicolor\n",
    "\n",
    "print(prob_versi)"
   ]
  },
  {
   "cell_type": "code",
   "execution_count": 9,
   "metadata": {},
   "outputs": [
    {
     "name": "stdout",
     "output_type": "stream",
     "text": [
      "0.013026689015295948\n",
      "7.057685074001408e-22\n",
      "5.352293900202344e-15\n"
     ]
    }
   ],
   "source": [
    "print(prob_setosa)\n",
    "print(prob_verg)\n",
    "print(prob_versi)"
   ]
  },
  {
   "cell_type": "markdown",
   "metadata": {},
   "source": [
    "{SL=4.7, SW=3.7,PL=2,PW=0.3}=> Species of these flower is Iris-virginica"
   ]
  },
  {
   "cell_type": "code",
   "execution_count": null,
   "metadata": {},
   "outputs": [],
   "source": []
  }
 ],
 "metadata": {
  "kernelspec": {
   "display_name": "Python 3",
   "language": "python",
   "name": "python3"
  },
  "language_info": {
   "codemirror_mode": {
    "name": "ipython",
    "version": 3
   },
   "file_extension": ".py",
   "mimetype": "text/x-python",
   "name": "python",
   "nbconvert_exporter": "python",
   "pygments_lexer": "ipython3",
   "version": "3.6.5"
  }
 },
 "nbformat": 4,
 "nbformat_minor": 2
}
