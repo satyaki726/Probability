{
 "cells": [
  {
   "cell_type": "markdown",
   "metadata": {},
   "source": [
    "In this task, you will work on a toy dataset of IPL with following cols:\n",
    "\n",
    "1. Opponent\n",
    "\n",
    "2. Venue\n",
    "\n",
    "3. Outlook\n",
    "\n",
    "4. Toss\n",
    "\n",
    "5. Match result\n",
    "\n",
    "You have to find out whether the team would lose the match or not for the following given input:\n",
    "\n",
    "{\"kkr\", \"chennai\",\"overcast\",\"lost\"}\n",
    "\n",
    "Apply the concepts learned in Naive Bayes\n",
    "\n",
    "Note: You don't have to use any builtin ML algos.\n",
    "\n",
    "This task is to practice the concepts learned in Naive Bayes "
   ]
  },
  {
   "cell_type": "code",
   "execution_count": 1,
   "metadata": {},
   "outputs": [],
   "source": [
    "import numpy as np\n",
    "import pandas as pd"
   ]
  },
  {
   "cell_type": "code",
   "execution_count": 2,
   "metadata": {},
   "outputs": [
    {
     "data": {
      "text/html": [
       "<div>\n",
       "<style scoped>\n",
       "    .dataframe tbody tr th:only-of-type {\n",
       "        vertical-align: middle;\n",
       "    }\n",
       "\n",
       "    .dataframe tbody tr th {\n",
       "        vertical-align: top;\n",
       "    }\n",
       "\n",
       "    .dataframe thead th {\n",
       "        text-align: right;\n",
       "    }\n",
       "</style>\n",
       "<table border=\"1\" class=\"dataframe\">\n",
       "  <thead>\n",
       "    <tr style=\"text-align: right;\">\n",
       "      <th></th>\n",
       "      <th>opponent</th>\n",
       "      <th>venue</th>\n",
       "      <th>outlook</th>\n",
       "      <th>toss</th>\n",
       "      <th>result</th>\n",
       "    </tr>\n",
       "  </thead>\n",
       "  <tbody>\n",
       "    <tr>\n",
       "      <th>0</th>\n",
       "      <td>kkr</td>\n",
       "      <td>bangalore</td>\n",
       "      <td>overcast</td>\n",
       "      <td>lost</td>\n",
       "      <td>won</td>\n",
       "    </tr>\n",
       "    <tr>\n",
       "      <th>1</th>\n",
       "      <td>mi</td>\n",
       "      <td>mumbai</td>\n",
       "      <td>sunny</td>\n",
       "      <td>won</td>\n",
       "      <td>won</td>\n",
       "    </tr>\n",
       "    <tr>\n",
       "      <th>2</th>\n",
       "      <td>rcb</td>\n",
       "      <td>mumbai</td>\n",
       "      <td>overcast</td>\n",
       "      <td>won</td>\n",
       "      <td>won</td>\n",
       "    </tr>\n",
       "    <tr>\n",
       "      <th>3</th>\n",
       "      <td>kkr</td>\n",
       "      <td>bangalore</td>\n",
       "      <td>sunny</td>\n",
       "      <td>lost</td>\n",
       "      <td>won</td>\n",
       "    </tr>\n",
       "    <tr>\n",
       "      <th>4</th>\n",
       "      <td>kkr</td>\n",
       "      <td>bangalore</td>\n",
       "      <td>sunny</td>\n",
       "      <td>won</td>\n",
       "      <td>won</td>\n",
       "    </tr>\n",
       "    <tr>\n",
       "      <th>5</th>\n",
       "      <td>mi</td>\n",
       "      <td>chennai</td>\n",
       "      <td>sunny</td>\n",
       "      <td>won</td>\n",
       "      <td>lost</td>\n",
       "    </tr>\n",
       "    <tr>\n",
       "      <th>6</th>\n",
       "      <td>rcb</td>\n",
       "      <td>chennai</td>\n",
       "      <td>sunny</td>\n",
       "      <td>won</td>\n",
       "      <td>lost</td>\n",
       "    </tr>\n",
       "    <tr>\n",
       "      <th>7</th>\n",
       "      <td>kkr</td>\n",
       "      <td>chennai</td>\n",
       "      <td>overcast</td>\n",
       "      <td>won</td>\n",
       "      <td>won</td>\n",
       "    </tr>\n",
       "    <tr>\n",
       "      <th>8</th>\n",
       "      <td>rr</td>\n",
       "      <td>bangalore</td>\n",
       "      <td>sunny</td>\n",
       "      <td>lost</td>\n",
       "      <td>won</td>\n",
       "    </tr>\n",
       "    <tr>\n",
       "      <th>9</th>\n",
       "      <td>rcb</td>\n",
       "      <td>mumbai</td>\n",
       "      <td>overcast</td>\n",
       "      <td>won</td>\n",
       "      <td>won</td>\n",
       "    </tr>\n",
       "    <tr>\n",
       "      <th>10</th>\n",
       "      <td>kkr</td>\n",
       "      <td>chennai</td>\n",
       "      <td>sunny</td>\n",
       "      <td>won</td>\n",
       "      <td>won</td>\n",
       "    </tr>\n",
       "    <tr>\n",
       "      <th>11</th>\n",
       "      <td>rcb</td>\n",
       "      <td>bangalore</td>\n",
       "      <td>sunny</td>\n",
       "      <td>won</td>\n",
       "      <td>won</td>\n",
       "    </tr>\n",
       "    <tr>\n",
       "      <th>12</th>\n",
       "      <td>rr</td>\n",
       "      <td>chennai</td>\n",
       "      <td>overcast</td>\n",
       "      <td>won</td>\n",
       "      <td>won</td>\n",
       "    </tr>\n",
       "    <tr>\n",
       "      <th>13</th>\n",
       "      <td>kkr</td>\n",
       "      <td>chennai</td>\n",
       "      <td>overcast</td>\n",
       "      <td>won</td>\n",
       "      <td>won</td>\n",
       "    </tr>\n",
       "    <tr>\n",
       "      <th>14</th>\n",
       "      <td>kkr</td>\n",
       "      <td>bangalore</td>\n",
       "      <td>overcast</td>\n",
       "      <td>won</td>\n",
       "      <td>won</td>\n",
       "    </tr>\n",
       "    <tr>\n",
       "      <th>15</th>\n",
       "      <td>rcb</td>\n",
       "      <td>chennai</td>\n",
       "      <td>overcast</td>\n",
       "      <td>won</td>\n",
       "      <td>lost</td>\n",
       "    </tr>\n",
       "    <tr>\n",
       "      <th>16</th>\n",
       "      <td>kkr</td>\n",
       "      <td>bangalore</td>\n",
       "      <td>overcast</td>\n",
       "      <td>won</td>\n",
       "      <td>lost</td>\n",
       "    </tr>\n",
       "    <tr>\n",
       "      <th>17</th>\n",
       "      <td>mi</td>\n",
       "      <td>bangalore</td>\n",
       "      <td>sunny</td>\n",
       "      <td>won</td>\n",
       "      <td>lost</td>\n",
       "    </tr>\n",
       "    <tr>\n",
       "      <th>18</th>\n",
       "      <td>rcb</td>\n",
       "      <td>chennai</td>\n",
       "      <td>sunny</td>\n",
       "      <td>lost</td>\n",
       "      <td>won</td>\n",
       "    </tr>\n",
       "    <tr>\n",
       "      <th>19</th>\n",
       "      <td>mi</td>\n",
       "      <td>chennai</td>\n",
       "      <td>overcast</td>\n",
       "      <td>won</td>\n",
       "      <td>lost</td>\n",
       "    </tr>\n",
       "    <tr>\n",
       "      <th>20</th>\n",
       "      <td>kkr</td>\n",
       "      <td>bangalore</td>\n",
       "      <td>sunny</td>\n",
       "      <td>lost</td>\n",
       "      <td>won</td>\n",
       "    </tr>\n",
       "    <tr>\n",
       "      <th>21</th>\n",
       "      <td>rcb</td>\n",
       "      <td>bangalore</td>\n",
       "      <td>sunny</td>\n",
       "      <td>won</td>\n",
       "      <td>lost</td>\n",
       "    </tr>\n",
       "    <tr>\n",
       "      <th>22</th>\n",
       "      <td>rr</td>\n",
       "      <td>bangalore</td>\n",
       "      <td>overcast</td>\n",
       "      <td>won</td>\n",
       "      <td>won</td>\n",
       "    </tr>\n",
       "    <tr>\n",
       "      <th>23</th>\n",
       "      <td>kkr</td>\n",
       "      <td>mumbai</td>\n",
       "      <td>sunny</td>\n",
       "      <td>won</td>\n",
       "      <td>lost</td>\n",
       "    </tr>\n",
       "    <tr>\n",
       "      <th>24</th>\n",
       "      <td>rr</td>\n",
       "      <td>chennai</td>\n",
       "      <td>overcast</td>\n",
       "      <td>lost</td>\n",
       "      <td>won</td>\n",
       "    </tr>\n",
       "  </tbody>\n",
       "</table>\n",
       "</div>"
      ],
      "text/plain": [
       "   opponent      venue   outlook  toss result\n",
       "0       kkr  bangalore  overcast  lost    won\n",
       "1        mi     mumbai     sunny   won    won\n",
       "2       rcb     mumbai  overcast   won    won\n",
       "3       kkr  bangalore     sunny  lost    won\n",
       "4       kkr  bangalore     sunny   won    won\n",
       "5        mi    chennai     sunny   won   lost\n",
       "6       rcb    chennai     sunny   won   lost\n",
       "7       kkr    chennai  overcast   won    won\n",
       "8        rr  bangalore     sunny  lost    won\n",
       "9       rcb     mumbai  overcast   won    won\n",
       "10      kkr    chennai     sunny   won    won\n",
       "11      rcb  bangalore     sunny   won    won\n",
       "12       rr    chennai  overcast   won    won\n",
       "13      kkr    chennai  overcast   won    won\n",
       "14      kkr  bangalore  overcast   won    won\n",
       "15      rcb    chennai  overcast   won   lost\n",
       "16      kkr  bangalore  overcast   won   lost\n",
       "17       mi  bangalore     sunny   won   lost\n",
       "18      rcb    chennai     sunny  lost    won\n",
       "19       mi    chennai  overcast   won   lost\n",
       "20      kkr  bangalore     sunny  lost    won\n",
       "21      rcb  bangalore     sunny   won   lost\n",
       "22       rr  bangalore  overcast   won    won\n",
       "23      kkr     mumbai     sunny   won   lost\n",
       "24       rr    chennai  overcast  lost    won"
      ]
     },
     "execution_count": 2,
     "metadata": {},
     "output_type": "execute_result"
    }
   ],
   "source": [
    "data=pd.read_csv('toy.csv')\n",
    "data"
   ]
  },
  {
   "cell_type": "code",
   "execution_count": 3,
   "metadata": {},
   "outputs": [
    {
     "data": {
      "text/plain": [
       "won     17\n",
       "lost     8\n",
       "Name: result, dtype: int64"
      ]
     },
     "execution_count": 3,
     "metadata": {},
     "output_type": "execute_result"
    }
   ],
   "source": [
    "data['result'].value_counts()"
   ]
  },
  {
   "cell_type": "code",
   "execution_count": 4,
   "metadata": {},
   "outputs": [],
   "source": [
    "pw=17/25\n",
    "pl=8/25"
   ]
  },
  {
   "cell_type": "code",
   "execution_count": 5,
   "metadata": {},
   "outputs": [
    {
     "data": {
      "text/html": [
       "<div>\n",
       "<style scoped>\n",
       "    .dataframe tbody tr th:only-of-type {\n",
       "        vertical-align: middle;\n",
       "    }\n",
       "\n",
       "    .dataframe tbody tr th {\n",
       "        vertical-align: top;\n",
       "    }\n",
       "\n",
       "    .dataframe thead th {\n",
       "        text-align: right;\n",
       "    }\n",
       "</style>\n",
       "<table border=\"1\" class=\"dataframe\">\n",
       "  <thead>\n",
       "    <tr style=\"text-align: right;\">\n",
       "      <th>result</th>\n",
       "      <th>lost</th>\n",
       "      <th>won</th>\n",
       "    </tr>\n",
       "    <tr>\n",
       "      <th>opponent</th>\n",
       "      <th></th>\n",
       "      <th></th>\n",
       "    </tr>\n",
       "  </thead>\n",
       "  <tbody>\n",
       "    <tr>\n",
       "      <th>kkr</th>\n",
       "      <td>2</td>\n",
       "      <td>8</td>\n",
       "    </tr>\n",
       "    <tr>\n",
       "      <th>mi</th>\n",
       "      <td>3</td>\n",
       "      <td>1</td>\n",
       "    </tr>\n",
       "    <tr>\n",
       "      <th>rcb</th>\n",
       "      <td>3</td>\n",
       "      <td>4</td>\n",
       "    </tr>\n",
       "    <tr>\n",
       "      <th>rr</th>\n",
       "      <td>0</td>\n",
       "      <td>4</td>\n",
       "    </tr>\n",
       "  </tbody>\n",
       "</table>\n",
       "</div>"
      ],
      "text/plain": [
       "result    lost  won\n",
       "opponent           \n",
       "kkr          2    8\n",
       "mi           3    1\n",
       "rcb          3    4\n",
       "rr           0    4"
      ]
     },
     "execution_count": 5,
     "metadata": {},
     "output_type": "execute_result"
    }
   ],
   "source": [
    "pd.crosstab(data['opponent'],data['result'])"
   ]
  },
  {
   "cell_type": "code",
   "execution_count": 6,
   "metadata": {},
   "outputs": [],
   "source": [
    "pkkrw=8/17\n",
    "pkkrl=2/8"
   ]
  },
  {
   "cell_type": "code",
   "execution_count": 7,
   "metadata": {},
   "outputs": [
    {
     "data": {
      "text/html": [
       "<div>\n",
       "<style scoped>\n",
       "    .dataframe tbody tr th:only-of-type {\n",
       "        vertical-align: middle;\n",
       "    }\n",
       "\n",
       "    .dataframe tbody tr th {\n",
       "        vertical-align: top;\n",
       "    }\n",
       "\n",
       "    .dataframe thead th {\n",
       "        text-align: right;\n",
       "    }\n",
       "</style>\n",
       "<table border=\"1\" class=\"dataframe\">\n",
       "  <thead>\n",
       "    <tr style=\"text-align: right;\">\n",
       "      <th>result</th>\n",
       "      <th>lost</th>\n",
       "      <th>won</th>\n",
       "    </tr>\n",
       "    <tr>\n",
       "      <th>venue</th>\n",
       "      <th></th>\n",
       "      <th></th>\n",
       "    </tr>\n",
       "  </thead>\n",
       "  <tbody>\n",
       "    <tr>\n",
       "      <th>bangalore</th>\n",
       "      <td>3</td>\n",
       "      <td>8</td>\n",
       "    </tr>\n",
       "    <tr>\n",
       "      <th>chennai</th>\n",
       "      <td>4</td>\n",
       "      <td>6</td>\n",
       "    </tr>\n",
       "    <tr>\n",
       "      <th>mumbai</th>\n",
       "      <td>1</td>\n",
       "      <td>3</td>\n",
       "    </tr>\n",
       "  </tbody>\n",
       "</table>\n",
       "</div>"
      ],
      "text/plain": [
       "result     lost  won\n",
       "venue               \n",
       "bangalore     3    8\n",
       "chennai       4    6\n",
       "mumbai        1    3"
      ]
     },
     "execution_count": 7,
     "metadata": {},
     "output_type": "execute_result"
    }
   ],
   "source": [
    "pd.crosstab(data['venue'],data['result'])"
   ]
  },
  {
   "cell_type": "code",
   "execution_count": 8,
   "metadata": {},
   "outputs": [],
   "source": [
    "pchw=6/17\n",
    "pchl=4/8"
   ]
  },
  {
   "cell_type": "code",
   "execution_count": 9,
   "metadata": {},
   "outputs": [
    {
     "data": {
      "text/html": [
       "<div>\n",
       "<style scoped>\n",
       "    .dataframe tbody tr th:only-of-type {\n",
       "        vertical-align: middle;\n",
       "    }\n",
       "\n",
       "    .dataframe tbody tr th {\n",
       "        vertical-align: top;\n",
       "    }\n",
       "\n",
       "    .dataframe thead th {\n",
       "        text-align: right;\n",
       "    }\n",
       "</style>\n",
       "<table border=\"1\" class=\"dataframe\">\n",
       "  <thead>\n",
       "    <tr style=\"text-align: right;\">\n",
       "      <th>result</th>\n",
       "      <th>lost</th>\n",
       "      <th>won</th>\n",
       "    </tr>\n",
       "    <tr>\n",
       "      <th>outlook</th>\n",
       "      <th></th>\n",
       "      <th></th>\n",
       "    </tr>\n",
       "  </thead>\n",
       "  <tbody>\n",
       "    <tr>\n",
       "      <th>overcast</th>\n",
       "      <td>3</td>\n",
       "      <td>9</td>\n",
       "    </tr>\n",
       "    <tr>\n",
       "      <th>sunny</th>\n",
       "      <td>5</td>\n",
       "      <td>8</td>\n",
       "    </tr>\n",
       "  </tbody>\n",
       "</table>\n",
       "</div>"
      ],
      "text/plain": [
       "result    lost  won\n",
       "outlook            \n",
       "overcast     3    9\n",
       "sunny        5    8"
      ]
     },
     "execution_count": 9,
     "metadata": {},
     "output_type": "execute_result"
    }
   ],
   "source": [
    "pd.crosstab(data['outlook'],data['result'])"
   ]
  },
  {
   "cell_type": "code",
   "execution_count": 10,
   "metadata": {},
   "outputs": [],
   "source": [
    "povw=9/17\n",
    "povl=3/8"
   ]
  },
  {
   "cell_type": "code",
   "execution_count": 11,
   "metadata": {},
   "outputs": [
    {
     "data": {
      "text/html": [
       "<div>\n",
       "<style scoped>\n",
       "    .dataframe tbody tr th:only-of-type {\n",
       "        vertical-align: middle;\n",
       "    }\n",
       "\n",
       "    .dataframe tbody tr th {\n",
       "        vertical-align: top;\n",
       "    }\n",
       "\n",
       "    .dataframe thead th {\n",
       "        text-align: right;\n",
       "    }\n",
       "</style>\n",
       "<table border=\"1\" class=\"dataframe\">\n",
       "  <thead>\n",
       "    <tr style=\"text-align: right;\">\n",
       "      <th>result</th>\n",
       "      <th>lost</th>\n",
       "      <th>won</th>\n",
       "    </tr>\n",
       "    <tr>\n",
       "      <th>toss</th>\n",
       "      <th></th>\n",
       "      <th></th>\n",
       "    </tr>\n",
       "  </thead>\n",
       "  <tbody>\n",
       "    <tr>\n",
       "      <th>lost</th>\n",
       "      <td>0</td>\n",
       "      <td>6</td>\n",
       "    </tr>\n",
       "    <tr>\n",
       "      <th>won</th>\n",
       "      <td>8</td>\n",
       "      <td>11</td>\n",
       "    </tr>\n",
       "  </tbody>\n",
       "</table>\n",
       "</div>"
      ],
      "text/plain": [
       "result  lost  won\n",
       "toss             \n",
       "lost       0    6\n",
       "won        8   11"
      ]
     },
     "execution_count": 11,
     "metadata": {},
     "output_type": "execute_result"
    }
   ],
   "source": [
    "pd.crosstab(data['toss'],data['result'])"
   ]
  },
  {
   "cell_type": "code",
   "execution_count": 12,
   "metadata": {},
   "outputs": [],
   "source": [
    "ptossw=6/17\n",
    "ptossl=0"
   ]
  },
  {
   "cell_type": "code",
   "execution_count": 13,
   "metadata": {},
   "outputs": [
    {
     "name": "stdout",
     "output_type": "stream",
     "text": [
      "0.021103195603500918\n"
     ]
    }
   ],
   "source": [
    "Pwin=pw*pkkrw*pchw*povw*ptossw\n",
    "print(Pwin)"
   ]
  },
  {
   "cell_type": "code",
   "execution_count": 14,
   "metadata": {},
   "outputs": [
    {
     "name": "stdout",
     "output_type": "stream",
     "text": [
      "0.0\n"
     ]
    }
   ],
   "source": [
    "Plose=pl*pkkrl*pchl*povl*ptossl\n",
    "print(Plose)"
   ]
  },
  {
   "cell_type": "markdown",
   "metadata": {},
   "source": [
    "From hereby it can be concluded that for the given conditions the team will not lose the match.  "
   ]
  },
  {
   "cell_type": "code",
   "execution_count": null,
   "metadata": {},
   "outputs": [],
   "source": []
  }
 ],
 "metadata": {
  "kernelspec": {
   "display_name": "Python 3",
   "language": "python",
   "name": "python3"
  },
  "language_info": {
   "codemirror_mode": {
    "name": "ipython",
    "version": 3
   },
   "file_extension": ".py",
   "mimetype": "text/x-python",
   "name": "python",
   "nbconvert_exporter": "python",
   "pygments_lexer": "ipython3",
   "version": "3.6.5"
  }
 },
 "nbformat": 4,
 "nbformat_minor": 2
}
