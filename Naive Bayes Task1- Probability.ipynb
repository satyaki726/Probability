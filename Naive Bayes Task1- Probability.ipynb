{
 "cells": [
  {
   "cell_type": "markdown",
   "metadata": {},
   "source": [
    "# Bayes' Theorem\n",
    "It is said that the Reverend Thomas Bayes developed his rule on inverse probability while he was trying to prove the existence of God somewhere around 1740. He came up with a method for calculating the probability of an event occurring given that another event has occurred. Starting out with the prior probability (or believe)  P(A) , when given a likelihood)  P(B | A)  and evidence  P(B)  we arrive at the posterior probability  P(A | B) . Bayes Rule proves to be a powerful tool and is widely used in diverging areas like economics, artificial intelligence, medicine, journalism, military, just to name a few. Most spam filters use Bayes Rule in one way or another. The Bayes' Theorem formula is, posterior = likelihood times prior, over evidence:\n",
    "\n",
    "P(A | B)=P(B | A)⋅P(A)P(B) \n",
    "The practical power of Bayes Rule is that we often can't find the posterior directly, yet we do know the likelihood of the test and  P(A) ."
   ]
  },
  {
   "cell_type": "markdown",
   "metadata": {},
   "source": [
    " Q1- What is the chance of someone having COPD (a life-threatening lung disease) given he or she is a smoker -  P(A|B) . This statistic is hard to figure out, but we do know from medical studies the probability of someone being a smoker given that he/she has COPD -  P(B|A) . We also know  P(B)  - the probability that a person is a smoker and  P(A)  - the chance that someone has COPD. The figures below are rough estimations:\n",
    "\n",
    "                                                P(A)=0.07 having COPD \n",
    "                                                P(B)=0.18 smokers \n",
    "                                P(B | A)=0.85 is or was smoker and given COPD diagnosis"
   ]
  },
  {
   "cell_type": "code",
   "execution_count": 1,
   "metadata": {},
   "outputs": [
    {
     "name": "stdout",
     "output_type": "stream",
     "text": [
      "0.33\n"
     ]
    }
   ],
   "source": [
    "#Q1- Now Answer- What is the probability of someone having COPD given the person is or was a smoker?:\n",
    "print('0.33')"
   ]
  },
  {
   "cell_type": "code",
   "execution_count": 2,
   "metadata": {},
   "outputs": [],
   "source": [
    "import numpy as np\n",
    "import pandas as pd"
   ]
  },
  {
   "cell_type": "code",
   "execution_count": 3,
   "metadata": {},
   "outputs": [
    {
     "data": {
      "text/html": [
       "<div>\n",
       "<style scoped>\n",
       "    .dataframe tbody tr th:only-of-type {\n",
       "        vertical-align: middle;\n",
       "    }\n",
       "\n",
       "    .dataframe tbody tr th {\n",
       "        vertical-align: top;\n",
       "    }\n",
       "\n",
       "    .dataframe thead th {\n",
       "        text-align: right;\n",
       "    }\n",
       "</style>\n",
       "<table border=\"1\" class=\"dataframe\">\n",
       "  <thead>\n",
       "    <tr style=\"text-align: right;\">\n",
       "      <th></th>\n",
       "      <th>patient_id</th>\n",
       "      <th>test_result</th>\n",
       "      <th>has_cancer</th>\n",
       "    </tr>\n",
       "  </thead>\n",
       "  <tbody>\n",
       "    <tr>\n",
       "      <th>0</th>\n",
       "      <td>79452</td>\n",
       "      <td>Negative</td>\n",
       "      <td>False</td>\n",
       "    </tr>\n",
       "    <tr>\n",
       "      <th>1</th>\n",
       "      <td>81667</td>\n",
       "      <td>Positive</td>\n",
       "      <td>True</td>\n",
       "    </tr>\n",
       "    <tr>\n",
       "      <th>2</th>\n",
       "      <td>76297</td>\n",
       "      <td>Negative</td>\n",
       "      <td>False</td>\n",
       "    </tr>\n",
       "    <tr>\n",
       "      <th>3</th>\n",
       "      <td>36593</td>\n",
       "      <td>Negative</td>\n",
       "      <td>False</td>\n",
       "    </tr>\n",
       "    <tr>\n",
       "      <th>4</th>\n",
       "      <td>53717</td>\n",
       "      <td>Negative</td>\n",
       "      <td>False</td>\n",
       "    </tr>\n",
       "  </tbody>\n",
       "</table>\n",
       "</div>"
      ],
      "text/plain": [
       "   patient_id test_result  has_cancer\n",
       "0       79452    Negative       False\n",
       "1       81667    Positive        True\n",
       "2       76297    Negative       False\n",
       "3       36593    Negative       False\n",
       "4       53717    Negative       False"
      ]
     },
     "execution_count": 3,
     "metadata": {},
     "output_type": "execute_result"
    }
   ],
   "source": [
    "df=pd.read_csv(\"cancer_test_data.csv\")\n",
    "df.head()"
   ]
  },
  {
   "cell_type": "code",
   "execution_count": 4,
   "metadata": {},
   "outputs": [
    {
     "name": "stdout",
     "output_type": "stream",
     "text": [
      "0.34282178217821785\n"
     ]
    }
   ],
   "source": [
    "#Q2- What proportion of patients who tested positive has cancer?\n",
    "mask1=df['test_result']=='Positive'\n",
    "mask2=df['has_cancer']==True\n",
    "new=df[mask1 & mask2]\n",
    "m=new['has_cancer'].count()\n",
    "new1=df[df['test_result']=='Positive']\n",
    "n=new1['has_cancer'].count()\n",
    "print(m/n)"
   ]
  },
  {
   "cell_type": "code",
   "execution_count": 5,
   "metadata": {},
   "outputs": [
    {
     "name": "stdout",
     "output_type": "stream",
     "text": [
      "0.6571782178217822\n"
     ]
    }
   ],
   "source": [
    "#Q3- What proportion of patients who tested positive doesn't have cancer?\n",
    "mask1=df['test_result']=='Positive'\n",
    "mask2=df['has_cancer']==False\n",
    "new=df[mask1 & mask2]\n",
    "m=new['has_cancer'].count()\n",
    "new1=df[df['test_result']=='Positive']\n",
    "n=new1['has_cancer'].count()\n",
    "print(m/n)"
   ]
  },
  {
   "cell_type": "code",
   "execution_count": 6,
   "metadata": {},
   "outputs": [
    {
     "name": "stdout",
     "output_type": "stream",
     "text": [
      "0.013770180436847104\n"
     ]
    }
   ],
   "source": [
    "#Q4- What proportion of patients who tested negative has cancer?\n",
    "mask1=df['test_result']=='Negative'\n",
    "mask2=df['has_cancer']==True\n",
    "new=df[mask1 & mask2]\n",
    "m=new['has_cancer'].count()\n",
    "new1=df[df['test_result']=='Negative']\n",
    "n=new1['has_cancer'].count()\n",
    "print(m/n)"
   ]
  },
  {
   "cell_type": "code",
   "execution_count": 7,
   "metadata": {},
   "outputs": [
    {
     "name": "stdout",
     "output_type": "stream",
     "text": [
      "0.9862298195631529\n"
     ]
    }
   ],
   "source": [
    "#Q5- What proportion of patients who tested negative doesn't have cancer?\n",
    "mask1=df['test_result']=='Negative'\n",
    "mask2=df['has_cancer']==False\n",
    "new=df[mask1 & mask2]\n",
    "m=new['has_cancer'].count()\n",
    "new1=df[df['test_result']=='Negative']\n",
    "n=new1['has_cancer'].count()\n",
    "print(m/n)"
   ]
  },
  {
   "cell_type": "code",
   "execution_count": null,
   "metadata": {},
   "outputs": [],
   "source": []
  }
 ],
 "metadata": {
  "kernelspec": {
   "display_name": "Python 3",
   "language": "python",
   "name": "python3"
  },
  "language_info": {
   "codemirror_mode": {
    "name": "ipython",
    "version": 3
   },
   "file_extension": ".py",
   "mimetype": "text/x-python",
   "name": "python",
   "nbconvert_exporter": "python",
   "pygments_lexer": "ipython3",
   "version": "3.6.5"
  }
 },
 "nbformat": 4,
 "nbformat_minor": 2
}
