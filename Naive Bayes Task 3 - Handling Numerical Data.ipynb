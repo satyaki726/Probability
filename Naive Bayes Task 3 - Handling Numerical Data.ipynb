{
 "cells": [
  {
   "cell_type": "raw",
   "metadata": {},
   "source": [
    "In this video, you have to predict the class of a given input point(flower) by training your model on the Iris Dataset\n",
    "\n",
    "Input Point\n",
    "\n",
    "{SL=4.7, SW=3.7,PL=2,PW=0.3}"
   ]
  },
  {
   "cell_type": "code",
   "execution_count": 1,
   "metadata": {},
   "outputs": [],
   "source": [
    "import numpy as np\n",
    "import pandas as pd"
   ]
  },
  {
   "cell_type": "code",
   "execution_count": 2,
   "metadata": {},
   "outputs": [],
   "source": [
    "data=pd.read_csv('Iris.csv')"
   ]
  },
  {
   "cell_type": "code",
   "execution_count": 3,
   "metadata": {},
   "outputs": [
    {
     "data": {
      "text/html": [
       "<div>\n",
       "<style scoped>\n",
       "    .dataframe tbody tr th:only-of-type {\n",
       "        vertical-align: middle;\n",
       "    }\n",
       "\n",
       "    .dataframe tbody tr th {\n",
       "        vertical-align: top;\n",
       "    }\n",
       "\n",
       "    .dataframe thead th {\n",
       "        text-align: right;\n",
       "    }\n",
       "</style>\n",
       "<table border=\"1\" class=\"dataframe\">\n",
       "  <thead>\n",
       "    <tr style=\"text-align: right;\">\n",
       "      <th></th>\n",
       "      <th>Id</th>\n",
       "      <th>SepalLengthCm</th>\n",
       "      <th>SepalWidthCm</th>\n",
       "      <th>PetalLengthCm</th>\n",
       "      <th>PetalWidthCm</th>\n",
       "      <th>Species</th>\n",
       "    </tr>\n",
       "  </thead>\n",
       "  <tbody>\n",
       "    <tr>\n",
       "      <th>0</th>\n",
       "      <td>1</td>\n",
       "      <td>5.1</td>\n",
       "      <td>3.5</td>\n",
       "      <td>1.4</td>\n",
       "      <td>0.2</td>\n",
       "      <td>Iris-setosa</td>\n",
       "    </tr>\n",
       "    <tr>\n",
       "      <th>1</th>\n",
       "      <td>2</td>\n",
       "      <td>4.9</td>\n",
       "      <td>3.0</td>\n",
       "      <td>1.4</td>\n",
       "      <td>0.2</td>\n",
       "      <td>Iris-setosa</td>\n",
       "    </tr>\n",
       "    <tr>\n",
       "      <th>2</th>\n",
       "      <td>3</td>\n",
       "      <td>4.7</td>\n",
       "      <td>3.2</td>\n",
       "      <td>1.3</td>\n",
       "      <td>0.2</td>\n",
       "      <td>Iris-setosa</td>\n",
       "    </tr>\n",
       "    <tr>\n",
       "      <th>3</th>\n",
       "      <td>4</td>\n",
       "      <td>4.6</td>\n",
       "      <td>3.1</td>\n",
       "      <td>1.5</td>\n",
       "      <td>0.2</td>\n",
       "      <td>Iris-setosa</td>\n",
       "    </tr>\n",
       "    <tr>\n",
       "      <th>4</th>\n",
       "      <td>5</td>\n",
       "      <td>5.0</td>\n",
       "      <td>3.6</td>\n",
       "      <td>1.4</td>\n",
       "      <td>0.2</td>\n",
       "      <td>Iris-setosa</td>\n",
       "    </tr>\n",
       "  </tbody>\n",
       "</table>\n",
       "</div>"
      ],
      "text/plain": [
       "   Id  SepalLengthCm  SepalWidthCm  PetalLengthCm  PetalWidthCm      Species\n",
       "0   1            5.1           3.5            1.4           0.2  Iris-setosa\n",
       "1   2            4.9           3.0            1.4           0.2  Iris-setosa\n",
       "2   3            4.7           3.2            1.3           0.2  Iris-setosa\n",
       "3   4            4.6           3.1            1.5           0.2  Iris-setosa\n",
       "4   5            5.0           3.6            1.4           0.2  Iris-setosa"
      ]
     },
     "execution_count": 3,
     "metadata": {},
     "output_type": "execute_result"
    }
   ],
   "source": [
    "data.head()"
   ]
  },
  {
   "cell_type": "code",
   "execution_count": 4,
   "metadata": {},
   "outputs": [
    {
     "data": {
      "text/plain": [
       "Iris-versicolor    50\n",
       "Iris-virginica     50\n",
       "Iris-setosa        50\n",
       "Name: Species, dtype: int64"
      ]
     },
     "execution_count": 4,
     "metadata": {},
     "output_type": "execute_result"
    }
   ],
   "source": [
    "data['Species'].value_counts()"
   ]
  },
  {
   "cell_type": "code",
   "execution_count": 5,
   "metadata": {},
   "outputs": [],
   "source": [
    "pse=50/100\n",
    "pve=50/100\n",
    "pvi=50/100"
   ]
  },
  {
   "cell_type": "code",
   "execution_count": 6,
   "metadata": {},
   "outputs": [],
   "source": [
    "setosa=data[data['Species']=='Iris-setosa']\n",
    "virginica=data[data['Species']=='Iris-virginica']\n",
    "versicolor=data[data['Species']=='Iris-versicolor']"
   ]
  },
  {
   "cell_type": "markdown",
   "metadata": {},
   "source": [
    "# Calculation using Normal Distribution"
   ]
  },
  {
   "cell_type": "code",
   "execution_count": 7,
   "metadata": {},
   "outputs": [],
   "source": [
    "x1=4.7\n",
    "x2=3.7\n",
    "x3=2\n",
    "x4=0.3"
   ]
  },
  {
   "cell_type": "code",
   "execution_count": 8,
   "metadata": {},
   "outputs": [],
   "source": [
    "def normal_dist(std,me,x):\n",
    "    f=np.exp((-((((x-me)/std)**2)/2)))/(std*(np.sqrt(2*np.pi)))\n",
    "    return f"
   ]
  },
  {
   "cell_type": "code",
   "execution_count": 9,
   "metadata": {},
   "outputs": [],
   "source": [
    "from statistics import mean\n",
    "from statistics import pstdev"
   ]
  },
  {
   "cell_type": "markdown",
   "metadata": {},
   "source": [
    "# Calculation On Iris Setosa"
   ]
  },
  {
   "cell_type": "markdown",
   "metadata": {},
   "source": [
    " Calculation of mean and std"
   ]
  },
  {
   "cell_type": "code",
   "execution_count": 10,
   "metadata": {},
   "outputs": [
    {
     "name": "stdout",
     "output_type": "stream",
     "text": [
      "Sepal Length mean: 5.006\n",
      "Sepal Length standard deviation: 0.3489469873777391\n"
     ]
    }
   ],
   "source": [
    "seslm=mean(setosa['SepalLengthCm'])\n",
    "seslsd=pstdev(setosa['SepalLengthCm'])\n",
    "print(\"Sepal Length mean:\",mean(setosa['SepalLengthCm']))\n",
    "print(\"Sepal Length standard deviation:\",pstdev(setosa['SepalLengthCm']))"
   ]
  },
  {
   "cell_type": "code",
   "execution_count": 11,
   "metadata": {},
   "outputs": [
    {
     "name": "stdout",
     "output_type": "stream",
     "text": [
      "Sepal Width mean: 3.418\n",
      "Sepal Width standard deviation: 0.37719490982779713\n"
     ]
    }
   ],
   "source": [
    "seswm=mean(setosa['SepalWidthCm'])\n",
    "seswsd=pstdev(setosa['SepalWidthCm'])\n",
    "print(\"Sepal Width mean:\",mean(setosa['SepalWidthCm']))\n",
    "print(\"Sepal Width standard deviation:\",pstdev(setosa['SepalWidthCm']))"
   ]
  },
  {
   "cell_type": "code",
   "execution_count": 12,
   "metadata": {},
   "outputs": [
    {
     "name": "stdout",
     "output_type": "stream",
     "text": [
      "Petal Length mean: 1.464\n",
      "Petal Length standard deviation: 0.1717672844286711\n"
     ]
    }
   ],
   "source": [
    "seplm=mean(setosa['PetalLengthCm'])\n",
    "seplsd=pstdev(setosa['PetalLengthCm'])\n",
    "print(\"Petal Length mean:\",mean(setosa['PetalLengthCm']))\n",
    "print(\"Petal Length standard deviation:\",pstdev(setosa['PetalLengthCm']))"
   ]
  },
  {
   "cell_type": "code",
   "execution_count": 13,
   "metadata": {},
   "outputs": [
    {
     "name": "stdout",
     "output_type": "stream",
     "text": [
      "Petal Width mean: 0.244\n",
      "Petal Width standard deviation: 0.1061319932913728\n"
     ]
    }
   ],
   "source": [
    "sepwm=mean(setosa['PetalWidthCm'])\n",
    "sepwsd=pstdev(setosa['PetalWidthCm'])\n",
    "print(\"Petal Width mean:\",mean(setosa['PetalWidthCm']))\n",
    "print(\"Petal Width standard deviation:\",pstdev(setosa['PetalWidthCm']))"
   ]
  },
  {
   "cell_type": "code",
   "execution_count": 14,
   "metadata": {},
   "outputs": [
    {
     "name": "stdout",
     "output_type": "stream",
     "text": [
      "Probability of Setosa: 0.018163826102066027\n"
     ]
    }
   ],
   "source": [
    "psl1=normal_dist(seslsd,seslm,x1)\n",
    "psw1=normal_dist(seswsd,seswm,x2)\n",
    "ppl1=normal_dist(seplsd,seplm,x3)\n",
    "ppw1=normal_dist(sepwsd,sepwm,x4)\n",
    "psetosa=psl1*psw1*ppl1*ppw1*pse\n",
    "print(\"Probability of Setosa:\",psetosa)"
   ]
  },
  {
   "cell_type": "markdown",
   "metadata": {},
   "source": [
    "# Calculation On Iris Virginica"
   ]
  },
  {
   "cell_type": "markdown",
   "metadata": {},
   "source": [
    "Calculation of mean and std"
   ]
  },
  {
   "cell_type": "code",
   "execution_count": 15,
   "metadata": {},
   "outputs": [
    {
     "name": "stdout",
     "output_type": "stream",
     "text": [
      "Sepal Length mean: 6.588\n",
      "Sepal Length standard deviation: 0.6294886813914926\n"
     ]
    }
   ],
   "source": [
    "vislm=mean(virginica['SepalLengthCm'])\n",
    "vislsd=pstdev(virginica['SepalLengthCm'])\n",
    "print(\"Sepal Length mean:\",mean(virginica['SepalLengthCm']))\n",
    "print(\"Sepal Length standard deviation:\",pstdev(virginica['SepalLengthCm']))"
   ]
  },
  {
   "cell_type": "code",
   "execution_count": 16,
   "metadata": {},
   "outputs": [
    {
     "name": "stdout",
     "output_type": "stream",
     "text": [
      "Sepal Width mean: 2.974\n",
      "Sepal Width standard deviation: 0.3192553836664309\n"
     ]
    }
   ],
   "source": [
    "viswm=mean(virginica['SepalWidthCm'])\n",
    "viswsd=pstdev(virginica['SepalWidthCm'])\n",
    "print(\"Sepal Width mean:\",mean(virginica['SepalWidthCm']))\n",
    "print(\"Sepal Width standard deviation:\",pstdev(virginica['SepalWidthCm']))"
   ]
  },
  {
   "cell_type": "code",
   "execution_count": 17,
   "metadata": {},
   "outputs": [
    {
     "name": "stdout",
     "output_type": "stream",
     "text": [
      "Petal Length mean: 5.552\n",
      "Petal Length standard deviation: 0.546347874526844\n"
     ]
    }
   ],
   "source": [
    "viplm=mean(virginica['PetalLengthCm'])\n",
    "viplsd=pstdev(virginica['PetalLengthCm'])\n",
    "print(\"Petal Length mean:\",mean(virginica['PetalLengthCm']))\n",
    "print(\"Petal Length standard deviation:\",pstdev(virginica['PetalLengthCm']))"
   ]
  },
  {
   "cell_type": "code",
   "execution_count": 18,
   "metadata": {},
   "outputs": [
    {
     "name": "stdout",
     "output_type": "stream",
     "text": [
      "Peatl Width mean: 2.026\n",
      "Petal Width standard deviation: 0.2718896835115301\n"
     ]
    }
   ],
   "source": [
    "vipwm=mean(virginica['PetalWidthCm'])\n",
    "vipwsd=pstdev(virginica['PetalWidthCm'])\n",
    "print(\"Peatl Width mean:\",mean(virginica['PetalWidthCm']))\n",
    "print(\"Petal Width standard deviation:\",pstdev(virginica['PetalWidthCm']))"
   ]
  },
  {
   "cell_type": "code",
   "execution_count": 19,
   "metadata": {},
   "outputs": [
    {
     "name": "stdout",
     "output_type": "stream",
     "text": [
      "Probability of Virginica: 4.1897952164802816e-22\n"
     ]
    }
   ],
   "source": [
    "psl2=normal_dist(vislsd,vislm,x1)\n",
    "psw2=normal_dist(viswsd,viswm,x2)\n",
    "ppl2=normal_dist(viplsd,viplm,x3)\n",
    "ppw2=normal_dist(vipwsd,vipwm,x4)\n",
    "pvirginica=psl2*psw2*ppl2*ppw2*pvi\n",
    "print(\"Probability of Virginica:\",pvirginica)"
   ]
  },
  {
   "cell_type": "markdown",
   "metadata": {},
   "source": [
    "# Calculation On Iris Versicolor\n",
    "\n"
   ]
  },
  {
   "cell_type": "markdown",
   "metadata": {},
   "source": [
    "Calculation of mean and std"
   ]
  },
  {
   "cell_type": "code",
   "execution_count": 20,
   "metadata": {},
   "outputs": [
    {
     "name": "stdout",
     "output_type": "stream",
     "text": [
      "Sepal Length mean: 5.936\n",
      "Sepal Length standard deviation: 0.5109833656783751\n"
     ]
    }
   ],
   "source": [
    "veslm=mean(versicolor['SepalLengthCm'])\n",
    "veslsd=pstdev(versicolor['SepalLengthCm'])\n",
    "print(\"Sepal Length mean:\",mean(versicolor['SepalLengthCm']))\n",
    "print(\"Sepal Length standard deviation:\",pstdev(versicolor['SepalLengthCm']))"
   ]
  },
  {
   "cell_type": "code",
   "execution_count": 21,
   "metadata": {},
   "outputs": [
    {
     "name": "stdout",
     "output_type": "stream",
     "text": [
      "Sepal Width mean: 2.77\n",
      "Sepal Width standard deviation: 0.31064449134018135\n"
     ]
    }
   ],
   "source": [
    "veswm=mean(versicolor['SepalWidthCm'])\n",
    "veswsd=pstdev(versicolor['SepalWidthCm'])\n",
    "print(\"Sepal Width mean:\",mean(versicolor['SepalWidthCm']))\n",
    "print(\"Sepal Width standard deviation:\",pstdev(versicolor['SepalWidthCm']))"
   ]
  },
  {
   "cell_type": "code",
   "execution_count": 22,
   "metadata": {},
   "outputs": [
    {
     "name": "stdout",
     "output_type": "stream",
     "text": [
      "Petal Length mean: 4.26\n",
      "Petal Length standard deviation: 0.4651881339845203\n"
     ]
    }
   ],
   "source": [
    "veplm=mean(versicolor['PetalLengthCm'])\n",
    "veplsd=pstdev(versicolor['PetalLengthCm'])\n",
    "print(\"Petal Length mean:\",mean(versicolor['PetalLengthCm']))\n",
    "print(\"Petal Length standard deviation:\",pstdev(versicolor['PetalLengthCm']))"
   ]
  },
  {
   "cell_type": "code",
   "execution_count": 23,
   "metadata": {},
   "outputs": [
    {
     "name": "stdout",
     "output_type": "stream",
     "text": [
      "Petal Width mean: 1.326\n",
      "Petal Width standard deviation: 0.19576516544063705\n"
     ]
    }
   ],
   "source": [
    "vepwm=mean(versicolor['PetalWidthCm'])\n",
    "vepwsd=pstdev(versicolor['PetalWidthCm'])\n",
    "print(\"Petal Width mean:\",mean(versicolor['PetalWidthCm']))\n",
    "print(\"Petal Width standard deviation:\",pstdev(versicolor['PetalWidthCm']))"
   ]
  },
  {
   "cell_type": "code",
   "execution_count": 24,
   "metadata": {},
   "outputs": [
    {
     "name": "stdout",
     "output_type": "stream",
     "text": [
      "Probability of Versicolor: 4.325621496877817e-15\n"
     ]
    }
   ],
   "source": [
    "psl3=normal_dist(veslsd,veslm,x1)\n",
    "psw3=normal_dist(veswsd,veswm,x2)\n",
    "ppl3=normal_dist(veplsd,veplm,x3)\n",
    "ppw3=normal_dist(vepwsd,vepwm,x4)\n",
    "pversicolor=psl3*psw3*ppl3*ppw3*pve\n",
    "print(\"Probability of Versicolor:\",pversicolor)"
   ]
  },
  {
   "cell_type": "code",
   "execution_count": 25,
   "metadata": {},
   "outputs": [
    {
     "name": "stdout",
     "output_type": "stream",
     "text": [
      "0.018163826102066027\n",
      "4.1897952164802816e-22\n",
      "4.325621496877817e-15\n"
     ]
    }
   ],
   "source": [
    "print(psetosa)\n",
    "print(pvirginica)\n",
    "print(pversicolor)"
   ]
  },
  {
   "cell_type": "markdown",
   "metadata": {},
   "source": [
    "# Conclusion:\n",
    "    For the given conditions {SL=4.7, SW=3.7,PL=2,PW=0.3} the Iris Setosa class is more available compare to the other two \n",
    "    class of Iris Flower (Verginica & Versicolor) as the probability of Setosa is larger than Versicolor and Virginica"
   ]
  }
 ],
 "metadata": {
  "kernelspec": {
   "display_name": "Python 3",
   "language": "python",
   "name": "python3"
  },
  "language_info": {
   "codemirror_mode": {
    "name": "ipython",
    "version": 3
   },
   "file_extension": ".py",
   "mimetype": "text/x-python",
   "name": "python",
   "nbconvert_exporter": "python",
   "pygments_lexer": "ipython3",
   "version": "3.6.5"
  }
 },
 "nbformat": 4,
 "nbformat_minor": 2
}
